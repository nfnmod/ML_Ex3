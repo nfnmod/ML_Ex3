{
  "cells": [
    {
      "cell_type": "code",
      "execution_count": null,
      "metadata": {
        "colab": {
          "base_uri": "https://localhost:8080/"
        },
        "id": "v34MEGnjY2-0",
        "outputId": "81dcecc2-7ec7-4f64-f07f-9c096ee7f600"
      },
      "outputs": [
        {
          "output_type": "stream",
          "name": "stderr",
          "text": [
            "/usr/local/lib/python3.10/dist-packages/sklearn/datasets/_openml.py:968: FutureWarning: The default value of `parser` will change from `'liac-arff'` to `'auto'` in 1.4. You can set `parser='auto'` to silence this warning. Therefore, an `ImportError` will be raised from 1.4 if the dataset is dense and pandas is not installed. Note that the pandas parser may return different data types. See the Notes Section in fetch_openml's API doc for details.\n",
            "  warn(\n"
          ]
        },
        {
          "output_type": "stream",
          "name": "stdout",
          "text": [
            "(70000, 784)\n",
            "(70000,)\n"
          ]
        }
      ],
      "source": [
        "from sklearn.datasets import fetch_openml\n",
        "\n",
        "\n",
        "X, y = fetch_openml('mnist_784', version=1, return_X_y=True)\n",
        "X = X.values\n",
        "y = y.astype(int).values\n",
        "\n",
        "print(X.shape)\n",
        "print(y.shape)"
      ]
    },
    {
      "cell_type": "code",
      "execution_count": null,
      "metadata": {
        "id": "8366Hm38Y2-1"
      },
      "outputs": [],
      "source": [
        "X = ((X / 255.) - .5) * 2"
      ]
    },
    {
      "cell_type": "code",
      "execution_count": null,
      "metadata": {
        "id": "TsvGecV8Y2-2"
      },
      "outputs": [],
      "source": [
        "from sklearn.model_selection import train_test_split\n",
        "\n",
        "\n",
        "X_train, X_test, y_train, y_test = train_test_split(X, y, test_size=0.3, random_state=123, stratify=y)"
      ]
    },
    {
      "cell_type": "markdown",
      "metadata": {
        "id": "2bYvhdQHY2-3"
      },
      "source": [
        "<br>\n",
        "<br>"
      ]
    },
    {
      "cell_type": "markdown",
      "metadata": {
        "id": "xTrPyrQ8Y2-3"
      },
      "source": [
        "## Implementing a multi-layer perceptron"
      ]
    },
    {
      "cell_type": "code",
      "execution_count": null,
      "metadata": {
        "id": "dZZuAzPVY2-3"
      },
      "outputs": [],
      "source": [
        "import numpy as np"
      ]
    },
    {
      "cell_type": "code",
      "execution_count": null,
      "metadata": {
        "id": "cgbHlGC3Y2-3"
      },
      "outputs": [],
      "source": [
        "##########################\n",
        "### MODEL\n",
        "##########################\n",
        "\n",
        "def sigmoid(z):\n",
        "    return 1. / (1. + np.exp(-z))\n",
        "\n",
        "\n",
        "def int_to_onehot(y, num_labels):\n",
        "\n",
        "    ary = np.zeros((y.shape[0], num_labels))\n",
        "    for i, val in enumerate(y):\n",
        "        ary[i, val] = 1\n",
        "\n",
        "    return ary\n",
        "\n",
        "\n",
        "class NeuralNetMLP:\n",
        "\n",
        "    def __init__(self, num_features, num_hidden, num_classes, random_seed=123):\n",
        "        super().__init__()\n",
        "\n",
        "        self.num_classes = num_classes\n",
        "\n",
        "        # hidden\n",
        "        rng = np.random.RandomState(random_seed)\n",
        "\n",
        "        # h1 weight initialization\n",
        "        self.weight_h1 = rng.normal(\n",
        "            loc=0.0, scale=0.1, size=(num_hidden, num_features))\n",
        "        self.bias_h1 = np.zeros(num_hidden)\n",
        "\n",
        "        # h2 weights initialization\n",
        "        self.weight_h2 = rng.normal(\n",
        "            loc=0.0, scale=0.1, size=(num_hidden, num_hidden))\n",
        "        self.bias_h2 = np.zeros(num_hidden)\n",
        "\n",
        "        # output\n",
        "        self.weight_out = rng.normal(\n",
        "            loc=0.0, scale=0.1, size=(num_classes, num_hidden))\n",
        "        self.bias_out = np.zeros(num_classes)\n",
        "\n",
        "    def forward(self, x):\n",
        "        # Hidden layer 1\n",
        "        # input dim: [n_examples, n_features] dot [n_hidden, n_features].T\n",
        "        # output dim: [n_examples, n_hidden]\n",
        "        z_h1 = np.dot(x, self.weight_h1.T) + self.bias_h1\n",
        "        a_h1 = sigmoid(z_h1)\n",
        "\n",
        "        # Hidden layer 2\n",
        "        # Input dim: [n_examples, n_hidden]\n",
        "        # output dim: [n_examples, n_hidden]\n",
        "        z_h2 = np.dot(a_h1, self.weight_h2.T) + self.bias_h2\n",
        "        a_h2 = sigmoid(z_h2)\n",
        "\n",
        "        # Output layer\n",
        "        # input dim: [n_examples, n_hidden] dot [n_classes, n_hidden].T\n",
        "        # output dim: [n_examples, n_classes]\n",
        "        z_out = np.dot(a_h2, self.weight_out.T) + self.bias_out\n",
        "        a_out = sigmoid(z_out)\n",
        "        return a_h1, a_h2, a_out\n",
        "\n",
        "    def backward(self, x, a_h1, a_h2, a_out, y):\n",
        "\n",
        "        #########################\n",
        "        ### Output layer weights\n",
        "        #########################\n",
        "\n",
        "        # onehot encoding\n",
        "        y_onehot = int_to_onehot(y, self.num_classes)\n",
        "\n",
        "        # Part 1: dLoss/dOutWeights\n",
        "        ## = dLoss/dOutAct * dOutAct/dOutNet * dOutNet/dOutWeight\n",
        "        ## where DeltaOut = dLoss/dOutAct * dOutAct/dOutNet\n",
        "        ## for convenient re-use\n",
        "\n",
        "        # input/output dim: [n_examples, n_classes]\n",
        "        d_loss__d_a_out = 2.*(a_out - y_onehot) / y.shape[0]\n",
        "\n",
        "        # input/output dim: [n_examples, n_classes]\n",
        "        d_a_out__d_z_out = a_out * (1. - a_out) # sigmoid derivative\n",
        "\n",
        "        # output dim: [n_examples, n_classes]\n",
        "        delta_out = d_loss__d_a_out * d_a_out__d_z_out # \"delta (rule) placeholder\", loss wrt zout.\n",
        "\n",
        "        # gradient for output weights\n",
        "\n",
        "        # [n_examples, n_hidden]\n",
        "        d_z_out__dw_out = a_h1\n",
        "\n",
        "        # input dim: [n_classes, n_examples] dot [n_examples, n_hidden]\n",
        "        # output dim: [n_classes, n_hidden]\n",
        "        d_loss__dw_out = np.dot(delta_out.T, d_z_out__dw_out) # dl/dz * dz/dw = dl/dw\n",
        "        d_loss__db_out = np.sum(delta_out, axis=0) # dz/db = 1\n",
        "\n",
        "\n",
        "        #################################\n",
        "        # Part 2: dLoss/dHiddenWeights\n",
        "        ## = DeltaOut * dOutNet/dHiddenAct * dHiddenAct/dHiddenNet * dHiddenNet/dWeight\n",
        "\n",
        "        # [n_classes, n_hidden]\n",
        "        d_z_out__a_h2 = self.weight_out # dzout/dah2\n",
        "\n",
        "        # output dim: [n_examples, n_hidden]\n",
        "        d_loss__a_h2 = np.dot(delta_out, d_z_out__a_h2) # dl/dz * dz/dah = dl/dah\n",
        "\n",
        "        # [n_examples, n_hidden]\n",
        "        d_a_h2__d_z_h2 = a_h2 * (1. - a_h2) # sigmoid derivative\n",
        "\n",
        "        # [n_examples, n_features]\n",
        "        d_z_h2__d_w_h2 = a_h1\n",
        "\n",
        "        # output dim: [n_hidden, n_features]\n",
        "        d_loss__d_w_h2 = np.dot((d_loss__a_h2 * d_a_h2__d_z_h2).T, d_z_h2__d_w_h2) # dl/dah * dah/dz = dl / dz * dz / dw = dl/dw\n",
        "        d_loss__d_b_h2 = np.sum((d_loss__a_h2 * d_a_h2__d_z_h2), axis=0)\n",
        "\n",
        "        d_z_h2_a_h1 = self.weight_h2 # dz2/da1\n",
        "\n",
        "        d_loss_z_h2 =  d_loss__a_h2 *  d_a_h2__d_z_h2 # dl/dah2, dah2/dzh2\n",
        "\n",
        "        d_loss_a_h1 = np.dot(d_loss_z_h2, d_z_h2_a_h1) # dl/dah1 = dl/ dzh2 * dzh2 / dah1\n",
        "\n",
        "        d_a_h1_d_z_h1 = a_h1 * (1. - a_h1)\n",
        "\n",
        "        d_z_h1_d_w_h1 = x\n",
        "\n",
        "        d_loss__d_w_h1 = np.dot((d_loss_a_h1 * d_a_h1_d_z_h1).T, d_z_h1_d_w_h1)\n",
        "        d_loss__d_b_h1 = np.sum((d_loss_a_h1 * d_a_h1_d_z_h1), axis=0)\n",
        "\n",
        "\n",
        "        return (d_loss__dw_out, d_loss__db_out,\n",
        "                d_loss__d_w_h2, d_loss__d_b_h2,\n",
        "                d_loss__d_w_h1, d_loss__d_b_h1)"
      ]
    },
    {
      "cell_type": "code",
      "execution_count": null,
      "metadata": {
        "id": "Br7HVsczY2-8"
      },
      "outputs": [],
      "source": [
        "model = NeuralNetMLP(num_features=28*28,\n",
        "                     num_hidden=50,\n",
        "                     num_classes=10)"
      ]
    },
    {
      "cell_type": "markdown",
      "metadata": {
        "id": "pU_RJhU0Y2-8"
      },
      "source": [
        "## Coding the neural network training loop"
      ]
    },
    {
      "cell_type": "markdown",
      "metadata": {
        "id": "mtpUwmqbY2-8"
      },
      "source": [
        "Defining data loaders:"
      ]
    },
    {
      "cell_type": "code",
      "execution_count": null,
      "metadata": {
        "colab": {
          "base_uri": "https://localhost:8080/"
        },
        "id": "vnN2o479Y2-9",
        "outputId": "5d89d311-c5c1-4217-aad6-b0d2f9a1a1aa"
      },
      "outputs": [
        {
          "output_type": "stream",
          "name": "stdout",
          "text": [
            "(100, 784)\n",
            "(100,)\n"
          ]
        }
      ],
      "source": [
        "import numpy as np\n",
        "\n",
        "num_epochs = 50\n",
        "minibatch_size = 100\n",
        "\n",
        "\n",
        "def minibatch_generator(X, y, minibatch_size):\n",
        "    indices = np.arange(X.shape[0])\n",
        "    np.random.shuffle(indices)\n",
        "\n",
        "    for start_idx in range(0, indices.shape[0] - minibatch_size\n",
        "                           + 1, minibatch_size):\n",
        "        batch_idx = indices[start_idx:start_idx + minibatch_size]\n",
        "\n",
        "        yield X[batch_idx], y[batch_idx]\n",
        "\n",
        "\n",
        "# iterate over training epochs\n",
        "for i in range(num_epochs):\n",
        "\n",
        "    # iterate over minibatches\n",
        "    minibatch_gen = minibatch_generator(\n",
        "        X_train, y_train, minibatch_size)\n",
        "\n",
        "    for X_train_mini, y_train_mini in minibatch_gen:\n",
        "\n",
        "        break\n",
        "\n",
        "    break\n",
        "\n",
        "print(X_train_mini.shape)\n",
        "print(y_train_mini.shape)"
      ]
    },
    {
      "cell_type": "markdown",
      "metadata": {
        "id": "QTHe9ZWSY2-9"
      },
      "source": [
        "Defining a function to compute the loss and accuracy"
      ]
    },
    {
      "cell_type": "code",
      "execution_count": null,
      "metadata": {
        "id": "ZEdrZ7iJY2-9"
      },
      "outputs": [],
      "source": [
        "def mse_loss(targets, probas, num_labels=10):\n",
        "    onehot_targets = int_to_onehot(targets, num_labels=num_labels)\n",
        "    return np.mean((onehot_targets - probas)**2)\n",
        "\n",
        "\n",
        "def accuracy(targets, predicted_labels):\n",
        "    return np.mean(predicted_labels == targets)"
      ]
    },
    {
      "cell_type": "code",
      "execution_count": null,
      "metadata": {
        "id": "ND91tu7cY2--"
      },
      "outputs": [],
      "source": [
        "def compute_mse_and_acc(nnet, X, y, num_labels=10, minibatch_size=100):\n",
        "    mse, correct_pred, num_examples = 0., 0, 0\n",
        "    minibatch_gen = minibatch_generator(X, y, minibatch_size)\n",
        "\n",
        "    for i, (features, targets) in enumerate(minibatch_gen):\n",
        "\n",
        "        _,_, probas = nnet.forward(features)\n",
        "        predicted_labels = np.argmax(probas, axis=1)\n",
        "\n",
        "        onehot_targets = int_to_onehot(targets, num_labels=num_labels)\n",
        "        loss = np.mean((onehot_targets - probas)**2)\n",
        "        correct_pred += (predicted_labels == targets).sum()\n",
        "\n",
        "        num_examples += targets.shape[0]\n",
        "        mse += loss\n",
        "\n",
        "    mse = mse/i\n",
        "    acc = correct_pred/num_examples\n",
        "    return mse, acc"
      ]
    },
    {
      "cell_type": "code",
      "execution_count": null,
      "metadata": {
        "id": "q8HkTeQ8Y2--"
      },
      "outputs": [],
      "source": [
        "def train(model, X_train, y_train, num_epochs,\n",
        "          learning_rate=0.1):\n",
        "\n",
        "    epoch_loss = []\n",
        "    epoch_train_acc = []\n",
        "    epoch_valid_acc = []\n",
        "\n",
        "    for e in range(num_epochs):\n",
        "\n",
        "        # iterate over minibatches\n",
        "        minibatch_gen = minibatch_generator(\n",
        "            X_train, y_train, minibatch_size)\n",
        "\n",
        "        for X_train_mini, y_train_mini in minibatch_gen:\n",
        "\n",
        "            #### Compute outputs ####\n",
        "            a_h1, a_h2, a_out = model.forward(X_train_mini)\n",
        "\n",
        "            #### Compute gradients ####\n",
        "            d_loss__dw_out, d_loss__db_out, d_loss__d_w_h2, d_loss__d_b_h2, d_loss__d_w_h1, d_loss__d_b_h1 = model.backward(X_train_mini, a_h1, a_h2, a_out, y_train_mini)\n",
        "\n",
        "            # print(d_loss__dw_out, d_loss__db_out, d_loss__d_w_h2, d_loss__d_b_h2, d_loss__d_w_h1, d_loss__d_b_h1)\n",
        "\n",
        "            #### Update weights ####\n",
        "            model.weight_h2 -= learning_rate * d_loss__d_w_h2\n",
        "            model.bias_h2 -= learning_rate * d_loss__d_b_h2\n",
        "            model.weight_h1 -= learning_rate * d_loss__d_w_h1\n",
        "            model.bias_h1 -= learning_rate * d_loss__d_b_h1\n",
        "            model.weight_out -= learning_rate * d_loss__dw_out\n",
        "            model.bias_out -= learning_rate * d_loss__db_out\n",
        "\n",
        "        #### Epoch Logging ####\n",
        "        train_mse, train_acc = compute_mse_and_acc(model, X_train, y_train)\n",
        "        train_acc = train_acc*100\n",
        "        epoch_train_acc.append(train_acc)\n",
        "        epoch_loss.append(train_mse)\n",
        "        print(f'Epoch: {e+1:03d}/{num_epochs:03d} '\n",
        "              f'| Train MSE: {train_mse:.2f} '\n",
        "              f'| Train Acc: {train_acc:.2f}% ')\n",
        "\n",
        "    return epoch_loss, epoch_train_acc"
      ]
    },
    {
      "cell_type": "code",
      "execution_count": null,
      "metadata": {
        "colab": {
          "base_uri": "https://localhost:8080/"
        },
        "id": "5deQIOl-Y2--",
        "outputId": "ffafdbed-e275-4dfc-c27a-2583b393ca22"
      },
      "outputs": [
        {
          "output_type": "stream",
          "name": "stdout",
          "text": [
            "Epoch: 001/050 | Train MSE: 0.00 | Train Acc: 97.84% \n",
            "Epoch: 002/050 | Train MSE: 0.00 | Train Acc: 97.92% \n",
            "Epoch: 003/050 | Train MSE: 0.00 | Train Acc: 97.87% \n",
            "Epoch: 004/050 | Train MSE: 0.00 | Train Acc: 97.91% \n",
            "Epoch: 005/050 | Train MSE: 0.00 | Train Acc: 97.94% \n",
            "Epoch: 006/050 | Train MSE: 0.00 | Train Acc: 98.00% \n",
            "Epoch: 007/050 | Train MSE: 0.00 | Train Acc: 98.02% \n",
            "Epoch: 008/050 | Train MSE: 0.00 | Train Acc: 97.97% \n",
            "Epoch: 009/050 | Train MSE: 0.00 | Train Acc: 98.03% \n",
            "Epoch: 010/050 | Train MSE: 0.00 | Train Acc: 98.00% \n",
            "Epoch: 011/050 | Train MSE: 0.00 | Train Acc: 98.03% \n",
            "Epoch: 012/050 | Train MSE: 0.00 | Train Acc: 98.05% \n",
            "Epoch: 013/050 | Train MSE: 0.00 | Train Acc: 98.05% \n",
            "Epoch: 014/050 | Train MSE: 0.00 | Train Acc: 98.07% \n",
            "Epoch: 015/050 | Train MSE: 0.00 | Train Acc: 98.07% \n",
            "Epoch: 016/050 | Train MSE: 0.00 | Train Acc: 98.14% \n",
            "Epoch: 017/050 | Train MSE: 0.00 | Train Acc: 98.16% \n",
            "Epoch: 018/050 | Train MSE: 0.00 | Train Acc: 98.14% \n",
            "Epoch: 019/050 | Train MSE: 0.00 | Train Acc: 98.16% \n",
            "Epoch: 020/050 | Train MSE: 0.00 | Train Acc: 98.16% \n",
            "Epoch: 021/050 | Train MSE: 0.00 | Train Acc: 98.20% \n",
            "Epoch: 022/050 | Train MSE: 0.00 | Train Acc: 98.21% \n",
            "Epoch: 023/050 | Train MSE: 0.00 | Train Acc: 98.22% \n",
            "Epoch: 024/050 | Train MSE: 0.00 | Train Acc: 98.27% \n",
            "Epoch: 025/050 | Train MSE: 0.00 | Train Acc: 98.27% \n",
            "Epoch: 026/050 | Train MSE: 0.00 | Train Acc: 98.26% \n",
            "Epoch: 027/050 | Train MSE: 0.00 | Train Acc: 98.28% \n",
            "Epoch: 028/050 | Train MSE: 0.00 | Train Acc: 98.28% \n",
            "Epoch: 029/050 | Train MSE: 0.00 | Train Acc: 98.28% \n",
            "Epoch: 030/050 | Train MSE: 0.00 | Train Acc: 98.31% \n",
            "Epoch: 031/050 | Train MSE: 0.00 | Train Acc: 98.31% \n",
            "Epoch: 032/050 | Train MSE: 0.00 | Train Acc: 98.33% \n",
            "Epoch: 033/050 | Train MSE: 0.00 | Train Acc: 98.36% \n",
            "Epoch: 034/050 | Train MSE: 0.00 | Train Acc: 98.36% \n",
            "Epoch: 035/050 | Train MSE: 0.00 | Train Acc: 98.39% \n",
            "Epoch: 036/050 | Train MSE: 0.00 | Train Acc: 98.40% \n",
            "Epoch: 037/050 | Train MSE: 0.00 | Train Acc: 98.41% \n",
            "Epoch: 038/050 | Train MSE: 0.00 | Train Acc: 98.38% \n",
            "Epoch: 039/050 | Train MSE: 0.00 | Train Acc: 98.43% \n",
            "Epoch: 040/050 | Train MSE: 0.00 | Train Acc: 98.40% \n",
            "Epoch: 041/050 | Train MSE: 0.00 | Train Acc: 98.40% \n",
            "Epoch: 042/050 | Train MSE: 0.00 | Train Acc: 98.42% \n",
            "Epoch: 043/050 | Train MSE: 0.00 | Train Acc: 98.44% \n",
            "Epoch: 044/050 | Train MSE: 0.00 | Train Acc: 98.46% \n",
            "Epoch: 045/050 | Train MSE: 0.00 | Train Acc: 98.46% \n",
            "Epoch: 046/050 | Train MSE: 0.00 | Train Acc: 98.44% \n",
            "Epoch: 047/050 | Train MSE: 0.00 | Train Acc: 98.49% \n",
            "Epoch: 048/050 | Train MSE: 0.00 | Train Acc: 98.51% \n",
            "Epoch: 049/050 | Train MSE: 0.00 | Train Acc: 98.48% \n",
            "Epoch: 050/050 | Train MSE: 0.00 | Train Acc: 98.52% \n"
          ]
        }
      ],
      "source": [
        "np.random.seed(123) # for the training set shuffling\n",
        "\n",
        "epoch_loss, epoch_train_acc = train(\n",
        "    model, X_train, y_train,\n",
        "    num_epochs=50, learning_rate=0.1)"
      ]
    },
    {
      "cell_type": "markdown",
      "metadata": {
        "id": "bFDXP5A4Y2-_"
      },
      "source": [
        "## Evaluating the neural network performance"
      ]
    },
    {
      "cell_type": "code",
      "execution_count": null,
      "metadata": {
        "colab": {
          "base_uri": "https://localhost:8080/",
          "height": 449
        },
        "id": "2MV9z9VuY2-_",
        "outputId": "21be4bbf-9e66-467b-d26b-433d204eda33"
      },
      "outputs": [
        {
          "output_type": "display_data",
          "data": {
            "text/plain": [
              "<Figure size 640x480 with 1 Axes>"
            ],
            "image/png": "[encoded data removed]"
          },
          "metadata": {}
        }
      ],
      "source": [
        "import matplotlib.pyplot as plt\n",
        "\n",
        "plt.plot(range(len(epoch_loss)), epoch_loss)\n",
        "plt.ylabel('Mean squared error')\n",
        "plt.xlabel('Epoch')\n",
        "#plt.savefig('figures/11_07.png', dpi=300)\n",
        "plt.show()"
      ]
    },
    {
      "cell_type": "code",
      "execution_count": null,
      "metadata": {
        "colab": {
          "base_uri": "https://localhost:8080/",
          "height": 449
        },
        "id": "xJeHrPU6Y2-_",
        "outputId": "377897b0-8a44-44d9-a0fe-81bd01666c5e"
      },
      "outputs": [
        {
          "output_type": "display_data",
          "data": {
            "text/plain": [
              "<Figure size 640x480 with 1 Axes>"
            ],
            "image/png": "[encoded data removed]"
          },
          "metadata": {}
        }
      ],
      "source": [
        "plt.plot(range(len(epoch_train_acc)), epoch_train_acc,\n",
        "         label='Training')\n",
        "plt.ylabel('Accuracy')\n",
        "plt.xlabel('Epochs')\n",
        "plt.legend(loc='lower right')\n",
        "#plt.savefig('figures/11_08.png', dpi=300)\n",
        "plt.show()"
      ]
    },
    {
      "cell_type": "code",
      "execution_count": null,
      "metadata": {
        "colab": {
          "base_uri": "https://localhost:8080/"
        },
        "id": "0VkZgUbHY2_A",
        "outputId": "c66f37b6-3e28-4680-e6c1-9e8c37c50e15"
      },
      "outputs": [
        {
          "output_type": "stream",
          "name": "stdout",
          "text": [
            "Test accuracy: 96.66%\n"
          ]
        }
      ],
      "source": [
        "test_mse, test_acc = compute_mse_and_acc(model, X_test, y_test)\n",
        "print(f'Test accuracy: {test_acc*100:.2f}%')"
      ]
    },
    {
      "cell_type": "code",
      "source": [
        "one_hot_y_train = int_to_onehot(y_train, 10)\n",
        "one_hot_y_test = int_to_onehot(y_test, 10)"
      ],
      "metadata": {
        "id": "Jgh-2OTCWyat"
      },
      "execution_count": null,
      "outputs": []
    },
    {
      "cell_type": "markdown",
      "source": [
        "# Keras Nueral Network Implementation"
      ],
      "metadata": {
        "id": "6sQp-q1mnMHJ"
      }
    },
    {
      "cell_type": "code",
      "source": [
        "# Keras implementation\n",
        "from keras.layers import Dense, Input, Flatten\n",
        "from keras.optimizers import Adam\n",
        "from keras.models import Model, Sequential"
      ],
      "metadata": {
        "id": "2IXF0rhaPllY"
      },
      "execution_count": null,
      "outputs": []
    },
    {
      "cell_type": "code",
      "source": [
        "keras_model = Sequential()\n",
        "keras_model.add(Input(28*28,))\n",
        "keras_model.add(Dense(50, activation='sigmoid'))\n",
        "keras_model.add(Dense(50, activation='sigmoid'))\n",
        "keras_model.add(Dense(10, activation='softmax'))\n",
        "keras_model.compile(loss='categorical_crossentropy',\n",
        "              optimizer='adam',\n",
        "              metrics=['acc'])\n",
        "keras_model.fit(X_train, one_hot_y_train, epochs=50)"
      ],
      "metadata": {
        "colab": {
          "base_uri": "https://localhost:8080/"
        },
        "id": "eFEk3X1xYsv1",
        "outputId": "0e51a8bf-4dd1-4e1a-cb99-c528c8141063"
      },
      "execution_count": null,
      "outputs": [
        {
          "output_type": "stream",
          "name": "stdout",
          "text": [
            "Epoch 1/50\n",
            "1532/1532 [==============================] - 4s 2ms/step - loss: 0.6421 - acc: 0.8451\n",
            "Epoch 2/50\n",
            "1532/1532 [==============================] - 3s 2ms/step - loss: 0.2479 - acc: 0.9272\n",
            "Epoch 3/50\n",
            "1532/1532 [==============================] - 3s 2ms/step - loss: 0.1908 - acc: 0.9434\n",
            "Epoch 4/50\n",
            "1532/1532 [==============================] - 3s 2ms/step - loss: 0.1600 - acc: 0.9518\n",
            "Epoch 5/50\n",
            "1532/1532 [==============================] - 3s 2ms/step - loss: 0.1387 - acc: 0.9580\n",
            "Epoch 6/50\n",
            "1532/1532 [==============================] - 3s 2ms/step - loss: 0.1262 - acc: 0.9614\n",
            "Epoch 7/50\n",
            "1532/1532 [==============================] - 3s 2ms/step - loss: 0.1144 - acc: 0.9658\n",
            "Epoch 8/50\n",
            "1532/1532 [==============================] - 3s 2ms/step - loss: 0.1041 - acc: 0.9680\n",
            "Epoch 9/50\n",
            "1532/1532 [==============================] - 3s 2ms/step - loss: 0.0982 - acc: 0.9699\n",
            "Epoch 10/50\n",
            "1532/1532 [==============================] - 3s 2ms/step - loss: 0.0904 - acc: 0.9715\n",
            "Epoch 11/50\n",
            "1532/1532 [==============================] - 3s 2ms/step - loss: 0.0853 - acc: 0.9733\n",
            "Epoch 12/50\n",
            "1532/1532 [==============================] - 3s 2ms/step - loss: 0.0817 - acc: 0.9741\n",
            "Epoch 13/50\n",
            "1532/1532 [==============================] - 3s 2ms/step - loss: 0.0759 - acc: 0.9760\n",
            "Epoch 14/50\n",
            "1532/1532 [==============================] - 3s 2ms/step - loss: 0.0732 - acc: 0.9762\n",
            "Epoch 15/50\n",
            "1532/1532 [==============================] - 3s 2ms/step - loss: 0.0680 - acc: 0.9796\n",
            "Epoch 16/50\n",
            "1532/1532 [==============================] - 3s 2ms/step - loss: 0.0647 - acc: 0.9795\n",
            "Epoch 17/50\n",
            "1532/1532 [==============================] - 3s 2ms/step - loss: 0.0625 - acc: 0.9802\n",
            "Epoch 18/50\n",
            "1532/1532 [==============================] - 3s 2ms/step - loss: 0.0606 - acc: 0.9813\n",
            "Epoch 19/50\n",
            "1532/1532 [==============================] - 3s 2ms/step - loss: 0.0582 - acc: 0.9814\n",
            "Epoch 20/50\n",
            "1532/1532 [==============================] - 3s 2ms/step - loss: 0.0562 - acc: 0.9821\n",
            "Epoch 21/50\n",
            "1532/1532 [==============================] - 3s 2ms/step - loss: 0.0542 - acc: 0.9821\n",
            "Epoch 22/50\n",
            "1532/1532 [==============================] - 4s 2ms/step - loss: 0.0500 - acc: 0.9840\n",
            "Epoch 23/50\n",
            "1532/1532 [==============================] - 3s 2ms/step - loss: 0.0484 - acc: 0.9843\n",
            "Epoch 24/50\n",
            "1532/1532 [==============================] - 3s 2ms/step - loss: 0.0473 - acc: 0.9852\n",
            "Epoch 25/50\n",
            "1532/1532 [==============================] - 3s 2ms/step - loss: 0.0443 - acc: 0.9859\n",
            "Epoch 26/50\n",
            "1532/1532 [==============================] - 3s 2ms/step - loss: 0.0465 - acc: 0.9849\n",
            "Epoch 27/50\n",
            "1532/1532 [==============================] - 3s 2ms/step - loss: 0.0438 - acc: 0.9855\n",
            "Epoch 28/50\n",
            "1532/1532 [==============================] - 3s 2ms/step - loss: 0.0415 - acc: 0.9865\n",
            "Epoch 29/50\n",
            "1532/1532 [==============================] - 3s 2ms/step - loss: 0.0398 - acc: 0.9869\n",
            "Epoch 30/50\n",
            "1532/1532 [==============================] - 3s 2ms/step - loss: 0.0407 - acc: 0.9869\n",
            "Epoch 31/50\n",
            "1532/1532 [==============================] - 3s 2ms/step - loss: 0.0395 - acc: 0.9873\n",
            "Epoch 32/50\n",
            "1532/1532 [==============================] - 3s 2ms/step - loss: 0.0365 - acc: 0.9879\n",
            "Epoch 33/50\n",
            "1532/1532 [==============================] - 3s 2ms/step - loss: 0.0348 - acc: 0.9885\n",
            "Epoch 34/50\n",
            "1532/1532 [==============================] - 3s 2ms/step - loss: 0.0336 - acc: 0.9891\n",
            "Epoch 35/50\n",
            "1532/1532 [==============================] - 3s 2ms/step - loss: 0.0340 - acc: 0.9891\n",
            "Epoch 36/50\n",
            "1532/1532 [==============================] - 3s 2ms/step - loss: 0.0318 - acc: 0.9896\n",
            "Epoch 37/50\n",
            "1532/1532 [==============================] - 3s 2ms/step - loss: 0.0320 - acc: 0.9896\n",
            "Epoch 38/50\n",
            "1532/1532 [==============================] - 3s 2ms/step - loss: 0.0328 - acc: 0.9890\n",
            "Epoch 39/50\n",
            "1532/1532 [==============================] - 3s 2ms/step - loss: 0.0273 - acc: 0.9912\n",
            "Epoch 40/50\n",
            "1532/1532 [==============================] - 3s 2ms/step - loss: 0.0302 - acc: 0.9900\n",
            "Epoch 41/50\n",
            "1532/1532 [==============================] - 3s 2ms/step - loss: 0.0277 - acc: 0.9910\n",
            "Epoch 42/50\n",
            "1532/1532 [==============================] - 3s 2ms/step - loss: 0.0292 - acc: 0.9896\n",
            "Epoch 43/50\n",
            "1532/1532 [==============================] - 3s 2ms/step - loss: 0.0250 - acc: 0.9920\n",
            "Epoch 44/50\n",
            "1532/1532 [==============================] - 3s 2ms/step - loss: 0.0267 - acc: 0.9916\n",
            "Epoch 45/50\n",
            "1532/1532 [==============================] - 3s 2ms/step - loss: 0.0251 - acc: 0.9913\n",
            "Epoch 46/50\n",
            "1532/1532 [==============================] - 3s 2ms/step - loss: 0.0249 - acc: 0.9918\n",
            "Epoch 47/50\n",
            "1532/1532 [==============================] - 3s 2ms/step - loss: 0.0251 - acc: 0.9919\n",
            "Epoch 48/50\n",
            "1532/1532 [==============================] - 3s 2ms/step - loss: 0.0238 - acc: 0.9925\n",
            "Epoch 49/50\n",
            "1532/1532 [==============================] - 3s 2ms/step - loss: 0.0232 - acc: 0.9923\n",
            "Epoch 50/50\n",
            "1532/1532 [==============================] - 3s 2ms/step - loss: 0.0224 - acc: 0.9922\n"
          ]
        },
        {
          "output_type": "execute_result",
          "data": {
            "text/plain": [
              "<keras.callbacks.History at 0x7a529cd00e20>"
            ]
          },
          "metadata": {},
          "execution_count": 60
        }
      ]
    },
    {
      "cell_type": "markdown",
      "source": [
        "# Single Layer Nueral Network"
      ],
      "metadata": {
        "id": "mKaugjW2nXDO"
      }
    },
    {
      "cell_type": "code",
      "source": [
        "def compute_mse_and_acc_single_layer(nnet, X, y, num_labels=10, minibatch_size=100):\n",
        "    mse, correct_pred, num_examples = 0., 0, 0\n",
        "    minibatch_gen = minibatch_generator(X, y, minibatch_size)\n",
        "\n",
        "    for i, (features, targets) in enumerate(minibatch_gen):\n",
        "\n",
        "        _, probas = nnet.forward(features)\n",
        "        predicted_labels = np.argmax(probas, axis=1)\n",
        "\n",
        "        onehot_targets = int_to_onehot(targets, num_labels=num_labels)\n",
        "        loss = np.mean((onehot_targets - probas)**2)\n",
        "        correct_pred += (predicted_labels == targets).sum()\n",
        "\n",
        "        num_examples += targets.shape[0]\n",
        "        mse += loss\n",
        "\n",
        "    mse = mse/i\n",
        "    acc = correct_pred/num_examples\n",
        "    return mse, acc\n",
        "\n",
        "class NeuralNetMLPOneLayer:\n",
        "\n",
        "    def __init__(self, num_features, num_hidden, num_classes, random_seed=123):\n",
        "        super().__init__()\n",
        "\n",
        "        self.num_classes = num_classes\n",
        "\n",
        "        # hidden\n",
        "        rng = np.random.RandomState(random_seed)\n",
        "\n",
        "        self.weight_h = rng.normal(\n",
        "            loc=0.0, scale=0.1, size=(num_hidden, num_features))\n",
        "        self.bias_h = np.zeros(num_hidden)\n",
        "\n",
        "        # output\n",
        "        self.weight_out = rng.normal(\n",
        "            loc=0.0, scale=0.1, size=(num_classes, num_hidden))\n",
        "        self.bias_out = np.zeros(num_classes)\n",
        "\n",
        "    def forward(self, x):\n",
        "        # Hidden layer\n",
        "        # input dim: [n_examples, n_features] dot [n_hidden, n_features].T\n",
        "        # output dim: [n_examples, n_hidden]\n",
        "        z_h = np.dot(x, self.weight_h.T) + self.bias_h\n",
        "        a_h = sigmoid(z_h)\n",
        "\n",
        "        # Output layer\n",
        "        # input dim: [n_examples, n_hidden] dot [n_classes, n_hidden].T\n",
        "        # output dim: [n_examples, n_classes]\n",
        "        z_out = np.dot(a_h, self.weight_out.T) + self.bias_out\n",
        "        a_out = sigmoid(z_out)\n",
        "        return a_h, a_out\n",
        "\n",
        "    def backward(self, x, a_h, a_out, y):\n",
        "\n",
        "        #########################\n",
        "        ### Output layer weights\n",
        "        #########################\n",
        "\n",
        "        # onehot encoding\n",
        "        y_onehot = int_to_onehot(y, self.num_classes)\n",
        "\n",
        "        # Part 1: dLoss/dOutWeights\n",
        "        ## = dLoss/dOutAct * dOutAct/dOutNet * dOutNet/dOutWeight\n",
        "        ## where DeltaOut = dLoss/dOutAct * dOutAct/dOutNet\n",
        "        ## for convenient re-use\n",
        "\n",
        "        # input/output dim: [n_examples, n_classes]\n",
        "        d_loss__d_a_out = 2.*(a_out - y_onehot) / y.shape[0]\n",
        "\n",
        "        # input/output dim: [n_examples, n_classes]\n",
        "        d_a_out__d_z_out = a_out * (1. - a_out) # sigmoid derivative\n",
        "\n",
        "        # output dim: [n_examples, n_classes]\n",
        "        delta_out = d_loss__d_a_out * d_a_out__d_z_out # \"delta (rule) placeholder\"\n",
        "\n",
        "        # gradient for output weights\n",
        "\n",
        "        # [n_examples, n_hidden]\n",
        "        d_z_out__dw_out = a_h\n",
        "\n",
        "        # input dim: [n_classes, n_examples] dot [n_examples, n_hidden]\n",
        "        # output dim: [n_classes, n_hidden]\n",
        "        d_loss__dw_out = np.dot(delta_out.T, d_z_out__dw_out)\n",
        "        d_loss__db_out = np.sum(delta_out, axis=0)\n",
        "\n",
        "\n",
        "        #################################\n",
        "        # Part 2: dLoss/dHiddenWeights\n",
        "        ## = DeltaOut * dOutNet/dHiddenAct * dHiddenAct/dHiddenNet * dHiddenNet/dWeight\n",
        "\n",
        "        # [n_classes, n_hidden]\n",
        "        d_z_out__a_h = self.weight_out\n",
        "\n",
        "        # output dim: [n_examples, n_hidden]\n",
        "        d_loss__a_h = np.dot(delta_out, d_z_out__a_h)\n",
        "\n",
        "        # [n_examples, n_hidden]\n",
        "        d_a_h__d_z_h = a_h * (1. - a_h) # sigmoid derivative\n",
        "\n",
        "        # [n_examples, n_features]\n",
        "        d_z_h__d_w_h = x\n",
        "\n",
        "        # output dim: [n_hidden, n_features]\n",
        "        d_loss__d_w_h = np.dot((d_loss__a_h * d_a_h__d_z_h).T, d_z_h__d_w_h)\n",
        "        d_loss__d_b_h = np.sum((d_loss__a_h * d_a_h__d_z_h), axis=0)\n",
        "\n",
        "        return (d_loss__dw_out, d_loss__db_out,\n",
        "                d_loss__d_w_h, d_loss__d_b_h)"
      ],
      "metadata": {
        "id": "6qTkqO4HjDfz"
      },
      "execution_count": null,
      "outputs": []
    },
    {
      "cell_type": "code",
      "source": [
        "model_single_layer = NeuralNetMLPOneLayer(num_features=28*28,\n",
        "                     num_hidden=50,\n",
        "                     num_classes=10)"
      ],
      "metadata": {
        "id": "4ASLOThSjL2J"
      },
      "execution_count": null,
      "outputs": []
    },
    {
      "cell_type": "code",
      "source": [
        "def train_single_layer(model, X_train, y_train, num_epochs,\n",
        "          learning_rate=0.1):\n",
        "\n",
        "    epoch_loss = []\n",
        "    epoch_train_acc = []\n",
        "\n",
        "    for e in range(num_epochs):\n",
        "\n",
        "        # iterate over minibatches\n",
        "        minibatch_gen = minibatch_generator(\n",
        "            X_train, y_train, minibatch_size)\n",
        "\n",
        "        for X_train_mini, y_train_mini in minibatch_gen:\n",
        "\n",
        "            #### Compute outputs ####\n",
        "            a_h, a_out = model.forward(X_train_mini)\n",
        "\n",
        "            #### Compute gradients ####\n",
        "            d_loss__d_w_out, d_loss__d_b_out, d_loss__d_w_h, d_loss__d_b_h = \\\n",
        "                model.backward(X_train_mini, a_h, a_out, y_train_mini)\n",
        "\n",
        "            #### Update weights ####\n",
        "            model.weight_h -= learning_rate * d_loss__d_w_h\n",
        "            model.bias_h -= learning_rate * d_loss__d_b_h\n",
        "            model.weight_out -= learning_rate * d_loss__d_w_out\n",
        "            model.bias_out -= learning_rate * d_loss__d_b_out\n",
        "\n",
        "        #### Epoch Logging ####\n",
        "        train_mse, train_acc = compute_mse_and_acc_single_layer(model, X_train, y_train)\n",
        "        train_acc = train_acc*100\n",
        "        epoch_train_acc.append(train_acc)\n",
        "        epoch_loss.append(train_mse)\n",
        "        print(f'Epoch: {e+1:03d}/{num_epochs:03d} '\n",
        "              f'| Train MSE: {train_mse:.2f} '\n",
        "              f'| Train Acc: {train_acc:.2f}% ')\n",
        "\n",
        "    return epoch_loss, epoch_train_acc"
      ],
      "metadata": {
        "id": "wg12RD8ajc57"
      },
      "execution_count": null,
      "outputs": []
    },
    {
      "cell_type": "code",
      "source": [
        "np.random.seed(123) # for the training set shuffling\n",
        "\n",
        "epoch_loss, epoch_train_acc = train_single_layer(model_single_layer, X_train, y_train, num_epochs=50, learning_rate=0.1)"
      ],
      "metadata": {
        "colab": {
          "base_uri": "https://localhost:8080/"
        },
        "id": "A5tNMeDxjqvy",
        "outputId": "318fb685-7fa3-425a-8a6e-1afa2306740f"
      },
      "execution_count": null,
      "outputs": [
        {
          "output_type": "stream",
          "name": "stdout",
          "text": [
            "Epoch: 001/050 | Train MSE: 0.03 | Train Acc: 87.43% \n",
            "Epoch: 002/050 | Train MSE: 0.02 | Train Acc: 88.74% \n",
            "Epoch: 003/050 | Train MSE: 0.02 | Train Acc: 89.72% \n",
            "Epoch: 004/050 | Train MSE: 0.02 | Train Acc: 90.27% \n",
            "Epoch: 005/050 | Train MSE: 0.02 | Train Acc: 90.87% \n",
            "Epoch: 006/050 | Train MSE: 0.02 | Train Acc: 91.08% \n",
            "Epoch: 007/050 | Train MSE: 0.02 | Train Acc: 91.50% \n",
            "Epoch: 008/050 | Train MSE: 0.01 | Train Acc: 91.73% \n",
            "Epoch: 009/050 | Train MSE: 0.01 | Train Acc: 91.92% \n",
            "Epoch: 010/050 | Train MSE: 0.01 | Train Acc: 92.22% \n",
            "Epoch: 011/050 | Train MSE: 0.01 | Train Acc: 92.41% \n",
            "Epoch: 012/050 | Train MSE: 0.01 | Train Acc: 92.60% \n",
            "Epoch: 013/050 | Train MSE: 0.01 | Train Acc: 92.74% \n",
            "Epoch: 014/050 | Train MSE: 0.01 | Train Acc: 92.89% \n",
            "Epoch: 015/050 | Train MSE: 0.01 | Train Acc: 93.03% \n",
            "Epoch: 016/050 | Train MSE: 0.01 | Train Acc: 93.20% \n",
            "Epoch: 017/050 | Train MSE: 0.01 | Train Acc: 93.28% \n",
            "Epoch: 018/050 | Train MSE: 0.01 | Train Acc: 93.40% \n",
            "Epoch: 019/050 | Train MSE: 0.01 | Train Acc: 93.51% \n",
            "Epoch: 020/050 | Train MSE: 0.01 | Train Acc: 93.60% \n",
            "Epoch: 021/050 | Train MSE: 0.01 | Train Acc: 93.71% \n",
            "Epoch: 022/050 | Train MSE: 0.01 | Train Acc: 93.80% \n",
            "Epoch: 023/050 | Train MSE: 0.01 | Train Acc: 93.88% \n",
            "Epoch: 024/050 | Train MSE: 0.01 | Train Acc: 93.95% \n",
            "Epoch: 025/050 | Train MSE: 0.01 | Train Acc: 94.08% \n",
            "Epoch: 026/050 | Train MSE: 0.01 | Train Acc: 94.12% \n",
            "Epoch: 027/050 | Train MSE: 0.01 | Train Acc: 94.22% \n",
            "Epoch: 028/050 | Train MSE: 0.01 | Train Acc: 94.22% \n",
            "Epoch: 029/050 | Train MSE: 0.01 | Train Acc: 94.35% \n",
            "Epoch: 030/050 | Train MSE: 0.01 | Train Acc: 94.45% \n",
            "Epoch: 031/050 | Train MSE: 0.01 | Train Acc: 94.55% \n",
            "Epoch: 032/050 | Train MSE: 0.01 | Train Acc: 94.54% \n",
            "Epoch: 033/050 | Train MSE: 0.01 | Train Acc: 94.64% \n",
            "Epoch: 034/050 | Train MSE: 0.01 | Train Acc: 94.68% \n",
            "Epoch: 035/050 | Train MSE: 0.01 | Train Acc: 94.76% \n",
            "Epoch: 036/050 | Train MSE: 0.01 | Train Acc: 94.78% \n",
            "Epoch: 037/050 | Train MSE: 0.01 | Train Acc: 94.93% \n",
            "Epoch: 038/050 | Train MSE: 0.01 | Train Acc: 94.94% \n",
            "Epoch: 039/050 | Train MSE: 0.01 | Train Acc: 95.01% \n",
            "Epoch: 040/050 | Train MSE: 0.01 | Train Acc: 94.98% \n",
            "Epoch: 041/050 | Train MSE: 0.01 | Train Acc: 95.08% \n",
            "Epoch: 042/050 | Train MSE: 0.01 | Train Acc: 95.16% \n",
            "Epoch: 043/050 | Train MSE: 0.01 | Train Acc: 95.17% \n",
            "Epoch: 044/050 | Train MSE: 0.01 | Train Acc: 95.23% \n",
            "Epoch: 045/050 | Train MSE: 0.01 | Train Acc: 95.28% \n",
            "Epoch: 046/050 | Train MSE: 0.01 | Train Acc: 95.30% \n",
            "Epoch: 047/050 | Train MSE: 0.01 | Train Acc: 95.39% \n",
            "Epoch: 048/050 | Train MSE: 0.01 | Train Acc: 95.37% \n",
            "Epoch: 049/050 | Train MSE: 0.01 | Train Acc: 95.49% \n",
            "Epoch: 050/050 | Train MSE: 0.01 | Train Acc: 95.49% \n"
          ]
        }
      ]
    },
    {
      "cell_type": "markdown",
      "source": [
        "# Performance Evaluation"
      ],
      "metadata": {
        "id": "_tujCtZDnhEc"
      }
    },
    {
      "cell_type": "code",
      "source": [
        "from sklearn.metrics import roc_auc_score\n",
        "keras_prediction = keras_model.predict(X_test)\n",
        "a_h1, a_h2, a_out = model.forward(X_test)\n",
        "single_ah1, single_out = model_single_layer.forward(X_test)\n",
        "model_prediction = a_out\n",
        "single_layer_nn_prediction = single_out\n",
        "\n",
        "for model_pred in model_prediction:\n",
        "  model_pred /= sum(model_pred)\n",
        "\n",
        "for model_pred in single_layer_nn_prediction:\n",
        "  model_pred /= sum(model_pred)\n",
        "\n",
        "y_true = y_test\n",
        "\n",
        "print(f\"our model macro auc:{roc_auc_score(y_true, model_prediction, average='macro', multi_class='ovr')}\")\n",
        "print(f\"keras model macro auc:{roc_auc_score(y_true, keras_prediction, average='macro', multi_class='ovr')}\")\n",
        "print(f\"single layer model macro auc:{roc_auc_score(y_true, single_layer_nn_prediction, average='macro', multi_class='ovr')}\")"
      ],
      "metadata": {
        "colab": {
          "base_uri": "https://localhost:8080/"
        },
        "id": "d85k9-mFcE9e",
        "outputId": "afa50c1a-1b21-461e-f07b-07595bad2bf0"
      },
      "execution_count": null,
      "outputs": [
        {
          "output_type": "stream",
          "name": "stdout",
          "text": [
            "657/657 [==============================] - 1s 1ms/step\n",
            "our model macro auc:0.9974894793244623\n",
            "keras model macro auc:0.9988191517851966\n",
            "single layer model macro auc:0.993949415669112\n"
          ]
        }
      ]
    }
  ],
  "metadata": {
    "anaconda-cloud": {},
    "kernelspec": {
      "display_name": "Python 3",
      "name": "python3"
    },
    "language_info": {
      "codemirror_mode": {
        "name": "ipython",
        "version": 3
      },
      "file_extension": ".py",
      "mimetype": "text/x-python",
      "name": "python",
      "nbconvert_exporter": "python",
      "pygments_lexer": "ipython3",
      "version": "3.9.7"
    },
    "colab": {
      "provenance": [],
      "collapsed_sections": [
        "xTrPyrQ8Y2-3",
        "pU_RJhU0Y2-8",
        "6sQp-q1mnMHJ",
        "mKaugjW2nXDO",
        "_tujCtZDnhEc"
      ],
      "machine_shape": "hm",
      "gpuType": "A100"
    }
  },
  "nbformat": 4,
  "nbformat_minor": 0
}
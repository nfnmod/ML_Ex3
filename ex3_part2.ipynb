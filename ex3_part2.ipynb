{
  "nbformat": 4,
  "nbformat_minor": 0,
  "metadata": {
    "colab": {
      "provenance": [],
      "machine_shape": "hm",
      "gpuType": "T4",
      "collapsed_sections": [
        "qFfwDRjmThmt"
      ]
    },
    "kernelspec": {
      "name": "python3",
      "display_name": "Python 3"
    },
    "language_info": {
      "name": "python"
    },
    "accelerator": "GPU"
  },
  "cells": [
    {
      "cell_type": "code",
      "source": [
        "from google.colab import drive\n",
        "drive.mount('/content/drive')"
      ],
      "metadata": {
        "id": "k7YcvP9N4AyM",
        "colab": {
          "base_uri": "https://localhost:8080/"
        },
        "outputId": "d9350622-01fe-4d44-b35c-f5c049e7e335"
      },
      "execution_count": 1,
      "outputs": [
        {
          "output_type": "stream",
          "name": "stdout",
          "text": [
            "Drive already mounted at /content/drive; to attempt to forcibly remount, call drive.mount(\"/content/drive\", force_remount=True).\n"
          ]
        }
      ]
    },
    {
      "cell_type": "code",
      "source": [
        "import os\n",
        "import random\n",
        "import shutil\n",
        "import math\n",
        "import keras\n",
        "import cv2\n",
        "import tensorflow as tf\n",
        "import pathlib\n",
        "import torch\n",
        "import numpy as np\n",
        "import pandas as pd\n",
        "import plotly.graph_objects as go\n",
        "import plotly.io as pio\n",
        "import scipy.io\n",
        "import torchvision.transforms as transforms\n",
        "from PIL import Image\n",
        "from keras.models import Sequential\n",
        "from keras import Input, Model\n",
        "from keras.applications.vgg19 import VGG19, preprocess_input\n",
        "from keras.callbacks import History\n",
        "from keras.layers import Dense, Flatten, Dropout, Conv2D, MaxPooling2D, BatchNormalization\n",
        "from keras.optimizers import Adam\n",
        "from keras.utils import load_img, img_to_array\n",
        "from sklearn.model_selection import train_test_split, StratifiedShuffleSplit"
      ],
      "metadata": {
        "id": "6Vbc2d6Q31Em"
      },
      "execution_count": 2,
      "outputs": []
    },
    {
      "cell_type": "code",
      "source": [
        "IMAGES_PATH = \"/content/drive/MyDrive/Machine Learning/labeled\"\n",
        "UNLABELED_IMGS_PATH = \"/content/drive/MyDrive/Machine Learning/jpg\"\n",
        "PATH_GRAPHS = \"/content/drive/MyDrive/Machine Learning/graphs\"\n",
        "RELU = \"relu\"\n",
        "SOFTMAX = \"softmax\"\n",
        "CAT_CROSS_EN = \"categorical_crossentropy\"\n",
        "ACC = \"accuracy\"\n",
        "TRAIN_VAL_SPLIT = 1 / 3\n",
        "NUM_CATEGORIES = 102\n",
        "\n",
        "mat = scipy.io.loadmat('/content/drive/MyDrive/Machine Learning/imagelabels.mat')\n",
        "\n",
        "labels = mat['labels'][0]\n",
        "\n",
        "# make vgg untrainable\n",
        "VGG = VGG19(include_top=False, classes=102, weights=\"imagenet\")\n",
        "for layer in VGG.layers:\n",
        "  layer.trainable = False\n",
        "\n",
        "DENSE_UNITS = [128]\n",
        "BATCH_SIZES = [32, 64]\n",
        "EPOCHS = [50]\n",
        "INPUT_SIZE = [224]"
      ],
      "metadata": {
        "id": "ciEyxEHg30DX"
      },
      "execution_count": 3,
      "outputs": []
    },
    {
      "cell_type": "markdown",
      "source": [
        "# Data Preperation"
      ],
      "metadata": {
        "id": "C6WJwbxeTcTX"
      }
    },
    {
      "cell_type": "code",
      "source": [
        "def create_labeled_data():\n",
        "    \"\"\"\n",
        "    This function\n",
        "    \"\"\"\n",
        "    img_id = 1\n",
        "    for l in mat['labels'][0]:\n",
        "        num_zeroes = math.ceil(4 - math.log10(img_id))\n",
        "        path = UNLABELED_IMGS_PATH + '/image_' + '0' * num_zeroes + '{}.jpg'.format(img_id)\n",
        "\n",
        "        img = cv2.imread(path)\n",
        "        if img is None:\n",
        "          break\n",
        "\n",
        "        dir_p = IMAGES_PATH + '/label_' + str(l)\n",
        "        filename = dir_p + '/image_' + '0' * num_zeroes + '{}.jpg'.format(img_id)\n",
        "\n",
        "        if not os.path.exists(dir_p):\n",
        "            Path(dir_p).mkdir(exist_ok=True, parents=True)\n",
        "\n",
        "        cv2.imwrite(filename, img)\n",
        "\n",
        "        img_id += 1\n",
        "#create_labeled_data()"
      ],
      "metadata": {
        "id": "bt3epJTPhfi_"
      },
      "execution_count": null,
      "outputs": []
    },
    {
      "cell_type": "code",
      "source": [
        "# Set the paths and proportions\n",
        "folder_path = UNLABELED_IMGS_PATH  # Update with the actual path to the \"jpg\" folder\n",
        "train_prop = 0.5\n",
        "test_prop = 0.25\n",
        "val_prop = 0.25\n",
        "\n",
        "X_train, X_val, X_test = [[], []], [[], []], [[], []]\n",
        "y_train, y_val, y_test = [[], []], [[], []], [[], []]\n",
        "\n",
        "sss = StratifiedShuffleSplit(n_splits=2, test_size=0.25, random_state=42)\n",
        "\n",
        "# Get a list of image filenames\n",
        "image_files = np.array([file for file in os.listdir(folder_path) if file.endswith(\".jpg\")])\n",
        "num_images = len(image_files)\n",
        "\n",
        "for i, (train_index, test_index) in enumerate(sss.split(image_files, labels)):\n",
        "    # Create directories for train, test, and validation splits\n",
        "    train_dir = f\"./datasets/data{i + 1}/train\"\n",
        "    test_dir = f\"./datasets/data{i + 1}/test\"\n",
        "    val_dir = f\"./datasets/data{i + 1}/validation\"\n",
        "\n",
        "    os.makedirs(train_dir, exist_ok=True)\n",
        "    os.makedirs(test_dir, exist_ok=True)\n",
        "    os.makedirs(val_dir, exist_ok=True)\n",
        "\n",
        "    train_files = image_files[train_index]\n",
        "    test_files = image_files[test_index]\n",
        "\n",
        "    trainSSS = StratifiedShuffleSplit(n_splits=1, test_size=1 / 3, random_state=42)\n",
        "    final_train_idx, final_val_idx = next(trainSSS.split(train_files, labels[train_index]))\n",
        "\n",
        "    train_files = image_files[final_train_idx]\n",
        "    val_files = image_files[final_val_idx]\n",
        "\n",
        "    # Save the split.\n",
        "    X_train[i] = train_files\n",
        "    X_val[i] = val_files\n",
        "    X_test[i] = test_files"
      ],
      "metadata": {
        "id": "h7r5MWaBdi7z"
      },
      "execution_count": null,
      "outputs": []
    },
    {
      "cell_type": "code",
      "source": [
        "y_train, y_val, y_test = [[], []], [[], []], [[], []]\n",
        "\n",
        "# define the labels of the images.\n",
        "\n",
        "for i in [0, 1]:\n",
        "    for file in X_train[i]:\n",
        "          img_num = int(file.split(\".\")[0].split(\"_\")[1])\n",
        "          y_train[i].append(labels[img_num - 1])\n",
        "    for file in X_val[i]:\n",
        "        img_num = int(file.split(\".\")[0].split(\"_\")[1])\n",
        "        y_val[i].append(labels[img_num - 1])\n",
        "    for file in X_test[i]:\n",
        "        img_num = int(file.split(\".\")[0].split(\"_\")[1])\n",
        "        y_test[i].append(labels[img_num - 1])"
      ],
      "metadata": {
        "id": "vnHZYj2vLBLs"
      },
      "execution_count": 5,
      "outputs": []
    },
    {
      "cell_type": "code",
      "source": [
        "import pickle\n",
        "\n",
        "with open('/content/drive/MyDrive/Machine Learning/X_train', mode='wb') as f:\n",
        "    pickle.dump(X_train, f)\n",
        "with open('/content/drive/MyDrive/Machine Learning/X_val', mode='wb') as f:\n",
        "    pickle.dump(X_val, f)\n",
        "with open('/content/drive/MyDrive/Machine Learning/X_test', mode='wb') as f:\n",
        "    pickle.dump(X_test, f)\n",
        "with open('/content/drive/MyDrive/Machine Learning/y_train', mode='wb') as f:\n",
        "    pickle.dump(y_train, f)\n",
        "with open('/content/drive/MyDrive/Machine Learning/y_val', mode='wb') as f:\n",
        "    pickle.dump(y_val, f)\n",
        "with open('/content/drive/MyDrive/Machine Learning/y_test', mode='wb') as f:\n",
        "    pickle.dump(y_test, f)"
      ],
      "metadata": {
        "id": "pDSXCkClrUr4"
      },
      "execution_count": null,
      "outputs": []
    },
    {
      "cell_type": "code",
      "source": [
        "import pickle\n",
        "\n",
        "with open(\"/content/drive/MyDrive/Machine Learning/X_train\", mode='rb') as f:\n",
        "  X_train = pickle.load(f)\n",
        "with open(\"/content/drive/MyDrive/Machine Learning/X_val\", mode='rb') as f:\n",
        "  X_val = pickle.load(f)\n",
        "with open(\"/content/drive/MyDrive/Machine Learning/X_test\", mode='rb') as f:\n",
        "  X_test = pickle.load(f)\n",
        "with open(\"/content/drive/MyDrive/Machine Learning/y_train\", mode='rb') as f:\n",
        "  y_train = pickle.load(f)\n",
        "with open(\"/content/drive/MyDrive/Machine Learning/y_val\", mode='rb') as f:\n",
        "  y_val = pickle.load(f)\n",
        "with open(\"/content/drive/MyDrive/Machine Learning/y_test\", mode='rb') as f:\n",
        "  y_test = pickle.load(f)"
      ],
      "metadata": {
        "id": "me3_TRMS9O6Y"
      },
      "execution_count": 4,
      "outputs": []
    },
    {
      "cell_type": "code",
      "source": [
        "def copy_files(src_folder, dst_folder):\n",
        "    os.makedirs(dst_folder[:-1], exist_ok=True)\n",
        "\n",
        "    # Fetching the list of all the files\n",
        "    files = os.listdir(src_folder)\n",
        "\n",
        "    # Fetching all the files to directory\n",
        "    for file_name in files:\n",
        "      shutil.copy(src_folder+file_name, dst_folder+file_name)"
      ],
      "metadata": {
        "id": "KuxqbVPruTE1"
      },
      "execution_count": null,
      "outputs": []
    },
    {
      "cell_type": "code",
      "source": [
        "def one_hot_encode_labels(labels):\n",
        "    encoded_labels = []\n",
        "    for label in labels:\n",
        "        encoded_label = np.zeros(NUM_CATEGORIES)\n",
        "        encoded_label[label - 1] = 1\n",
        "        encoded_labels.append(encoded_label)\n",
        "\n",
        "    return np.array(encoded_labels)\n",
        "\n",
        "\n",
        "def preprocess(size, imgs_names):\n",
        "    \"\"\"pre preprocessing for VGG19.\n",
        "       the images are converted from RGB to BGR and each channel is zero-centered with respect to the pixel’s values distribution in the ImageNet dataset, without scaling.\n",
        "    \"\"\"\n",
        "    images = []\n",
        "    for img_file in imgs_names:\n",
        "        # load an image from file\n",
        "        image = load_img(UNLABELED_IMGS_PATH + \"/\" + img_file, target_size=(size, size))\n",
        "\n",
        "        # convert the image pixels to a numpy array\n",
        "        image = img_to_array(image)\n",
        "\n",
        "        # reshape data for the model\n",
        "        image = image.reshape((image.shape[0], image.shape[1], image.shape[2]))\n",
        "\n",
        "        # prepare the image for the VGG model\n",
        "        image = preprocess_input(image)\n",
        "\n",
        "        images.append(image)\n",
        "\n",
        "    return np.array(images)"
      ],
      "metadata": {
        "id": "xSB0i7yoA0rr"
      },
      "execution_count": 6,
      "outputs": []
    },
    {
      "cell_type": "code",
      "source": [
        "label_train1, label_train2 = one_hot_encode_labels(y_train[0]), one_hot_encode_labels(y_train[1])\n",
        "label_val1, label_val2 = one_hot_encode_labels(y_val[0]), one_hot_encode_labels(y_val[1])\n",
        "label_test1, label_test2 = one_hot_encode_labels(y_test[0]), one_hot_encode_labels(y_test[1])"
      ],
      "metadata": {
        "id": "3ig7zbLniTGW"
      },
      "execution_count": 7,
      "outputs": []
    },
    {
      "cell_type": "code",
      "source": [
        "size = 224\n",
        "\n",
        "img_train1, img_train2 = preprocess(size, X_train[0]), preprocess(size, X_train[1])\n",
        "img_val1, img_val2 = preprocess(size, X_val[0]), preprocess(size, X_val[1])\n",
        "img_test1, img_test2 = preprocess(size, X_test[0]), preprocess(size, X_test[1])"
      ],
      "metadata": {
        "id": "kpaw-KnoTv5_"
      },
      "execution_count": null,
      "outputs": []
    },
    {
      "cell_type": "code",
      "source": [
        "#1. transform images to tensors.\n",
        "size = 320\n",
        "\n",
        "def prepare_YOLO_input(images_paths):\n",
        "  # pre process for yolo, convert to torch tensor and resize the image.\n",
        "  image_tensors = []\n",
        "  transform = transforms.Compose([transforms.Resize((size, size)),transforms.ToTensor()])\n",
        "  for img_file in images_paths:\n",
        "    image_path = UNLABELED_IMGS_PATH + \"/\" + img_file\n",
        "    image = Image.open(image_path)\n",
        "    image_tensor = transform(image)\n",
        "    image_tensor = image_tensor.unsqueeze(0)\n",
        "    image_tensors.append(image_tensor)\n",
        "\n",
        "  image_tensor = torch.stack(image_tensors, dim=0)\n",
        "  return image_tensor"
      ],
      "metadata": {
        "id": "t-DJ80JDUP47"
      },
      "execution_count": 8,
      "outputs": []
    },
    {
      "cell_type": "markdown",
      "source": [
        "# VGG Transfer Learning"
      ],
      "metadata": {
        "id": "qFfwDRjmThmt"
      }
    },
    {
      "cell_type": "code",
      "source": [
        "def create_VGG_classifier(input_size, dense_units, lr=0.001, dropout_proba=0.0):\n",
        "    inp = Input((input_size, input_size, 3))\n",
        "\n",
        "    vgg_res = VGG(inp)\n",
        "\n",
        "    flat = Flatten()(vgg_res)\n",
        "\n",
        "    dense = Dense(dense_units, activation='relu')(flat)\n",
        "\n",
        "    dense = Dense(dense_units / 2, activation='relu')(dense)\n",
        "\n",
        "    dropout = Dropout(dropout_proba)(dense)\n",
        "\n",
        "    output = Dense(NUM_CATEGORIES, activation='softmax')(dropout)\n",
        "\n",
        "    model = Model(inp, output)\n",
        "\n",
        "    model.compile(optimizer=Adam(lr), loss=CAT_CROSS_EN, metrics=[ACC])\n",
        "\n",
        "    return model"
      ],
      "metadata": {
        "id": "2VxosAJHTZr-"
      },
      "execution_count": null,
      "outputs": []
    },
    {
      "cell_type": "code",
      "source": [
        "def run_VGG():\n",
        "    results = pd.DataFrame(columns=[\"input size\", \"batch size\", \"epochs\", \"dense units\", \"dropout proba\",\n",
        "                                    \"train loss 1\", \"train loss 2\", \"train acc 1\", \"train acc 2\",\n",
        "                                    \"val loss 1\", \"val loss 2\", \"val acc 1\", \"val acc 2\",\n",
        "                                    \"test loss 1\", \"test loss 2\", \"test acc 1\", \"test acc 2\"])\n",
        "    cnt = 16\n",
        "    for input_size in INPUT_SIZE:\n",
        "        for batch_size in [64]:\n",
        "            for dense_units in [512]:\n",
        "                for epochs in [25]:\n",
        "                    for dropout_proba in [0.2]:\n",
        "                        result = dict()\n",
        "                        result[\"input size\"] = input_size\n",
        "                        result[\"batch size\"] = batch_size\n",
        "                        result[\"epochs\"] = epochs\n",
        "                        result[\"dense units\"] = dense_units\n",
        "                        result[\"dropout proba\"] = dropout_proba\n",
        "\n",
        "                        model = create_VGG_classifier(input_size, dense_units, dropout_proba=dropout_proba)\n",
        "\n",
        "                        history1 = History()\n",
        "                        history1 = model.fit(img_train1, label_train1, batch_size=batch_size,\n",
        "                                            validation_data=[img_val1, label_val1], callbacks=[history1], epochs=epochs)\n",
        "\n",
        "                        test_loss1, test_acc1 = model.evaluate(img_test1, label_test1)\n",
        "\n",
        "                        result[\"train loss 1\"] = history1.history['loss'][-1]\n",
        "                        result[\"train acc 1\"] = history1.history['accuracy'][-1]\n",
        "                        result[\"val loss 1\"] = history1.history['val_loss'][-1]\n",
        "                        result[\"val acc 1\"] = history1.history['val_accuracy'][-1]\n",
        "                        result[\"test loss 1\"] = test_loss1\n",
        "                        result[\"test acc 1\"] = test_acc1\n",
        "\n",
        "                        loss_acc_graphs(history1, f\"split1_{input_size}_{batch_size}_{epochs}_{dense_units}_{dropout_proba}\")\n",
        "\n",
        "                        model = create_VGG_classifier(input_size, dense_units, dropout_proba=dropout_proba)\n",
        "\n",
        "                        history2 = History()\n",
        "                        history2 = model.fit(img_train2, label_train2, batch_size=batch_size,\n",
        "                                            validation_data=[img_val2, label_val2], callbacks=[history2], epochs=epochs)\n",
        "\n",
        "                        test_loss2, test_acc2 = model.evaluate(img_test2, label_test2)\n",
        "\n",
        "                        result[\"train loss 2\"] = history2.history['loss'][-1]\n",
        "                        result[\"train acc 2\"] = history2.history['accuracy'][-1]\n",
        "                        result[\"val loss 2\"] = history2.history['val_loss'][-1]\n",
        "                        result[\"val acc 2\"] = history2.history['val_accuracy'][-1]\n",
        "                        result[\"test loss 2\"] = test_loss2\n",
        "                        result[\"test acc 2\"] = test_acc2\n",
        "\n",
        "                        loss_acc_graphs(history2, f\"split2_{input_size}_{batch_size}_{epochs}_{dense_units}_{dropout_proba}\")\n",
        "\n",
        "                        loss_acc_graphs(history1, f\"avg_{input_size}_{batch_size}_{epochs}_{dense_units}_{dropout_proba}\", log2=history2)\n",
        "\n",
        "                        result_df = pd.DataFrame.from_dict(columns=results.columns, data={'0': result}, orient='index')\n",
        "                        results = pd.concat([results, result_df], axis=0, ignore_index=True)\n",
        "                        results.to_csv(f'/content/drive/MyDrive/Machine Learning/VGG_results{cnt}.csv')\n",
        "                        cnt += 1\n",
        "\n",
        "    results.to_csv('/content/drive/MyDrive/Machine Learning/VGG_results.csv')"
      ],
      "metadata": {
        "id": "saDfrHQFiPVJ"
      },
      "execution_count": null,
      "outputs": []
    },
    {
      "cell_type": "code",
      "source": [
        "import matplotlib.pyplot as plt\n",
        "\n",
        "def loss_acc_graphs(log, hyper_parameters, log2=None):\n",
        "    \"\"\"\n",
        "    Plots the loss and accuracy using scatter plots based on the model's log.\n",
        "\n",
        "    Args:\n",
        "        log (keras.callbacks.History): The model's log.\n",
        "        hyper_parameters (str): Experiment's identification through hyper-parameters\n",
        "        log2 (keras.callbacks.History, optional): Additional model's log for comparison.\n",
        "    \"\"\"\n",
        "\n",
        "    # Plot loss\n",
        "    plt.figure()\n",
        "    plt.plot(range(1, len(log.history['loss']) + 1), log.history['loss'] if log2 is None else (np.array(log.history['loss']) + np.array(log2.history['loss'])) / 2, label='train')\n",
        "    plt.plot(range(1, len(log.history['val_loss']) + 1), log.history['val_loss'] if log2 is None else (np.array(log.history['val_loss']) + np.array(log2.history['val_loss'])) / 2, label='validation')\n",
        "    plt.title('Model Loss')\n",
        "    plt.xlabel('Epoch')\n",
        "    plt.ylabel('Loss')\n",
        "    plt.legend()\n",
        "    plt.savefig(f'{PATH_GRAPHS}/loss_{hyper_parameters}.png')\n",
        "    plt.close()\n",
        "\n",
        "    # Plot accuracy\n",
        "    plt.figure()\n",
        "    plt.plot(range(1, len(log.history['accuracy']) + 1), log.history['accuracy'] if log2 is None else (np.array(log.history['accuracy']) + np.array(log2.history['accuracy'])) / 2, label='train')\n",
        "    plt.plot(range(1, len(log.history['val_accuracy']) + 1), log.history['val_accuracy'] if log2 is None else (np.array(log.history['val_accuracy']) + np.array(log2.history['val_accuracy'])) / 2, label='validation')\n",
        "    plt.title('Model Accuracy')\n",
        "    plt.xlabel('Epoch')\n",
        "    plt.ylabel('Accuracy')\n",
        "    plt.legend()\n",
        "    plt.savefig(f'{PATH_GRAPHS}/accuracy_{hyper_parameters}.png')\n",
        "    plt.close()"
      ],
      "metadata": {
        "id": "MBhyHpqmZf8t"
      },
      "execution_count": null,
      "outputs": []
    },
    {
      "cell_type": "code",
      "source": [
        "run_VGG()"
      ],
      "metadata": {
        "id": "OFU9foF-7N5a"
      },
      "execution_count": null,
      "outputs": []
    },
    {
      "cell_type": "markdown",
      "source": [
        "# YOLOv5 Transfer Learning"
      ],
      "metadata": {
        "id": "mJQ3o7zjTMjf"
      }
    },
    {
      "cell_type": "code",
      "source": [
        "!pip install ultralytics"
      ],
      "metadata": {
        "id": "dvC49MHZ0LPY"
      },
      "execution_count": null,
      "outputs": []
    },
    {
      "cell_type": "code",
      "source": [
        "model = torch.hub.load('ultralytics/yolov5', 'yolov5s', pretrained=True, autoshape=False, classes=102)\n",
        "model.model = model.model[:10]"
      ],
      "metadata": {
        "id": "vzzEp3OmKhFp"
      },
      "execution_count": null,
      "outputs": []
    },
    {
      "cell_type": "code",
      "source": [
        "yolo_img_train = prepare_YOLO_input(X_train[0])\n",
        "with open('/content/drive/MyDrive/Machine Learning/yolo_X_train1', mode='wb') as f:\n",
        "  pickle.dump(yolo_img_train, f)\n",
        "\n",
        "yolo_img_train = prepare_YOLO_input(X_train[1])\n",
        "with open('/content/drive/MyDrive/Machine Learning/yolo_X_train2', mode='wb') as f:\n",
        "  pickle.dump(yolo_img_train, f)"
      ],
      "metadata": {
        "id": "hmZMxmGpyFqe"
      },
      "execution_count": null,
      "outputs": []
    },
    {
      "cell_type": "code",
      "source": [
        "yolo_img_val = prepare_YOLO_input(X_val[0])\n",
        "with open('/content/drive/MyDrive/Machine Learning/yolo_X_val1', mode='wb') as f:\n",
        "  pickle.dump(yolo_img_val, f)\n",
        "\n",
        "yolo_img_val = prepare_YOLO_input(X_val[1])\n",
        "with open('/content/drive/MyDrive/Machine Learning/yolo_X_val2', mode='wb') as f:\n",
        "  pickle.dump(yolo_img_val, f)"
      ],
      "metadata": {
        "id": "Nt_G6mtHYMMD"
      },
      "execution_count": null,
      "outputs": []
    },
    {
      "cell_type": "code",
      "source": [
        "yolo_img_test = prepare_YOLO_input(X_test[0])\n",
        "with open('/content/drive/MyDrive/Machine Learning/yolo_X_test1', mode='wb') as f:\n",
        "  pickle.dump(yolo_img_test, f)\n",
        "\n",
        "yolo_img_test =  prepare_YOLO_input(X_test[1])\n",
        "with open('/content/drive/MyDrive/Machine Learning/yolo_X_test2', mode='wb') as f:\n",
        "  pickle.dump(yolo_img_test, f)"
      ],
      "metadata": {
        "id": "EzgTZAgq5-Tv"
      },
      "execution_count": null,
      "outputs": []
    },
    {
      "cell_type": "code",
      "source": [
        "def load_yolo_data(split_num):\n",
        "  # load a train, val, test split into memory.\n",
        "  X_train, X_val, X_test = None, None, None\n",
        "  with open(f'/content/drive/MyDrive/Machine Learning/yolo_X_train{split_num}', mode='rb') as f:\n",
        "    X_train = pickle.load(f)\n",
        "  with open(f'/content/drive/MyDrive/Machine Learning/yolo_X_val{split_num}', mode='rb') as f:\n",
        "    X_val = pickle.load(f)\n",
        "  with open(f'/content/drive/MyDrive/Machine Learning/yolo_X_test{split_num}', mode='rb') as f:\n",
        "    X_test = pickle.load(f)\n",
        "  return X_train, X_val, X_test"
      ],
      "metadata": {
        "id": "8dnMeYkrwZEX"
      },
      "execution_count": 11,
      "outputs": []
    },
    {
      "cell_type": "code",
      "source": [
        "def create_YOLO_classifier(input_size, dense_units, lr=0.001, dropout_proba=0.0):\n",
        "    cls = Sequential()\n",
        "    cls.add(Conv2D(dense_units / 2, kernel_size=3, strides=1, padding=\"same\", activation=\"relu\", input_shape=(512, 10, 10)))\n",
        "    cls.add(BatchNormalization())\n",
        "    cls.add(MaxPooling2D(pool_size=2, strides=2))\n",
        "    cls.add(Flatten())\n",
        "    cls.add(Dense(dense_units, activation=\"relu\"))\n",
        "    cls.add(Dropout(dropout_proba))\n",
        "    cls.add(Dense(NUM_CATEGORIES, activation=\"softmax\"))\n",
        "\n",
        "    cls.compile(optimizer=Adam(lr), loss=CAT_CROSS_EN, metrics=[ACC])\n",
        "\n",
        "    return cls"
      ],
      "metadata": {
        "id": "HoC3p3myuF5g"
      },
      "execution_count": 12,
      "outputs": []
    },
    {
      "cell_type": "code",
      "source": [
        "def calculate_acc(y_true, y_pred):\n",
        "  predicted_labels = np.argmax(y_pred, axis=1)\n",
        "  real_labels = np.argmax(y_true, axis=1)\n",
        "  correct_pred = (predicted_labels == real_labels).sum()\n",
        "  return correct_pred / len(y_true)\n",
        "\n",
        "def split_and_shuffle(features, target, batch_size):\n",
        "    \"\"\"\n",
        "    The function splits a dataset into batches.\n",
        "    \"\"\"\n",
        "    # Get the number of samples\n",
        "    num_samples = len(features)\n",
        "\n",
        "    # Create random permutation of indices\n",
        "    indices = np.random.permutation(num_samples)\n",
        "\n",
        "    # Shuffle the features and target using the indices\n",
        "    shuffled_features = features[indices]\n",
        "    shuffled_target = target[indices]\n",
        "\n",
        "    # Calculate the number of batches needed\n",
        "    num_batches = num_samples // batch_size\n",
        "\n",
        "    # Create a list to hold the batches\n",
        "    X_batches, y_batches = [], []\n",
        "\n",
        "    # Split the shuffled data into batches\n",
        "    for i in range(num_batches):\n",
        "        start_idx = i * batch_size\n",
        "        end_idx = (i + 1) * batch_size\n",
        "\n",
        "        batch_features = shuffled_features[start_idx:end_idx]\n",
        "        batch_target = shuffled_target[start_idx:end_idx]\n",
        "\n",
        "        # Convert TensorFlow tensors to NumPy arrays first\n",
        "        batch_features_np = batch_features.numpy()\n",
        "        batch_target_np = batch_target\n",
        "\n",
        "        # Convert NumPy arrays to PyTorch tensors\n",
        "        batch_features_torch = torch.tensor(batch_features_np)\n",
        "        batch_target_torch = torch.tensor(batch_target_np)\n",
        "\n",
        "        X_batches.append(batch_features_torch)\n",
        "        y_batches.append(batch_target_torch)\n",
        "\n",
        "    return X_batches, y_batches\n",
        "\n",
        "def train_yolo_cls(epochs, batch_size, classifier, X_train, y_train, X_val, y_val, X_test, y_test):\n",
        "    \"\"\"\n",
        "    Our own traning loop for the yolo-based classifier.\n",
        "    \"\"\"\n",
        "    # convert to tensors for YOLO.\n",
        "    X_train = torch.tensor(X_train)\n",
        "    y_train = torch.tensor(y_train)\n",
        "    X_val = torch.tensor(X_val)\n",
        "    y_val = torch.tensor(y_val)\n",
        "    X_test = torch.tensor(X_test)\n",
        "    y_test = torch.tensor(y_test)\n",
        "\n",
        "    # split to batches.\n",
        "    X_batches, y_batches = split_and_shuffle(X_train, y_train, batch_size)\n",
        "\n",
        "    losses, accuracies = [], []\n",
        "    val_losses, val_accuracies = [], []\n",
        "\n",
        "    n_batches = len(X_batches)\n",
        "\n",
        "    optimizer = tf.keras.optimizers.Adam(0.0002, beta_1=0.5)\n",
        "    cross_entropy = tf.keras.losses.BinaryCrossentropy(from_logits=False)\n",
        "\n",
        "    # the main loop.\n",
        "    for epoch in range(epochs):\n",
        "        print(\"\\nStart of epoch %d\" % (epoch,))\n",
        "        epoch_loss = 0\n",
        "        epoch_accuracy = 0\n",
        "\n",
        "        # Iterate over the batches of the dataset.\n",
        "        for (x_batch_train, y_batch_train) in zip(X_batches, y_batches):\n",
        "            with tf.GradientTape() as tape:\n",
        "                # forward pass, first apply YOLO, then apply the classifier.\n",
        "                x_batch_train = torch.reshape(x_batch_train, shape=(batch_size, 3, 320, 320)).cuda()\n",
        "                x_batch_train = model(x_batch_train.cuda())\n",
        "                x_batch_train = x_batch_train.cpu()\n",
        "\n",
        "                logits = classifier(x_batch_train.detach().numpy(), training=True)\n",
        "\n",
        "                loss_value = cross_entropy(y_batch_train.numpy(), logits)\n",
        "                acc = calculate_acc(y_batch_train.numpy(), logits)\n",
        "\n",
        "                epoch_loss += loss_value\n",
        "                epoch_accuracy += acc\n",
        "\n",
        "            # back propogation.\n",
        "            grads = tape.gradient(loss_value, classifier.trainable_weights)\n",
        "\n",
        "            # Run one step of gradient descent by updating\n",
        "            # the value of the variables to minimize the loss.\n",
        "            optimizer.apply_gradients(zip(grads, classifier.trainable_weights))\n",
        "\n",
        "        # loss, accuracy on train set.\n",
        "        epoch_loss /= n_batches\n",
        "        epoch_accuracy /= n_batches\n",
        "\n",
        "        losses.append(epoch_loss)\n",
        "        accuracies.append(epoch_accuracy)\n",
        "\n",
        "        # split to batches.\n",
        "        X_batches_val, y_batches_val = split_and_shuffle(X_val, y_val, batch_size)\n",
        "\n",
        "        val_loss = 0\n",
        "        val_acc = 0\n",
        "\n",
        "        for (x_batch_val, y_batch_val) in zip(X_batches_val, y_batches_val):\n",
        "            # forward pass, add loss and accuracy.\n",
        "            x_batch_val = torch.reshape(x_batch_val, shape=(batch_size, 3, 320, 320)).cuda()\n",
        "            x_batch_val = model(x_batch_val.cuda())\n",
        "            x_batch_val = x_batch_val.cpu()\n",
        "\n",
        "            logits = classifier(x_batch_val.detach().numpy(), training=False)\n",
        "\n",
        "            val_loss += cross_entropy(y_batch_val.numpy(), logits)\n",
        "            val_acc += calculate_acc(y_batch_val.numpy(), logits)\n",
        "\n",
        "        val_loss /= len(X_batches_val)\n",
        "        val_acc /= len(X_batches_val)\n",
        "\n",
        "        val_losses.append(val_loss)\n",
        "        val_accuracies.append(val_acc)\n",
        "\n",
        "        print(f\"acc :{epoch_accuracy}\\n\")\n",
        "        print(f\"loss :{epoch_loss}\\n\")\n",
        "        print(f\"val acc :{val_acc}\\n\")\n",
        "        print(f\"val loss :{val_loss}\\n\")\n",
        "\n",
        "    # after training is concluded, evaluate on test set.\n",
        "    X_batches_test, y_batches_test = split_and_shuffle(X_test, y_test, batch_size)\n",
        "\n",
        "    test_loss = 0\n",
        "    test_acc = 0\n",
        "\n",
        "    for (x_batch_test, y_batch_test) in zip(X_batches_test, y_batches_test):\n",
        "        x_batch_test = torch.reshape(x_batch_test, shape=(batch_size, 3, 320, 320)).cuda()\n",
        "        x_batch_test = model(x_batch_test.cuda())\n",
        "        x_batch_test = x_batch_test.cpu()\n",
        "\n",
        "        logits = classifier(x_batch_test.detach().numpy(), training=False)\n",
        "\n",
        "        test_loss += cross_entropy(y_batch_test.numpy(), logits)\n",
        "        test_acc += calculate_acc(y_batch_test.numpy(), logits)\n",
        "\n",
        "    test_loss /= len(X_batches_test)\n",
        "    test_acc /= len(X_batches_test)\n",
        "\n",
        "    print(f\"test loss {test_loss}, test acc {test_acc}\")\n",
        "\n",
        "    return losses, accuracies, val_losses, val_accuracies, test_loss, test_acc"
      ],
      "metadata": {
        "id": "jnpNo_WDRqBD"
      },
      "execution_count": 13,
      "outputs": []
    },
    {
      "cell_type": "code",
      "source": [
        "def run_YOLO():\n",
        "    results = pd.DataFrame(columns=[\"input size\", \"batch size\", \"epochs\", \"dense units\", \"dropout proba\",\n",
        "                                    \"train loss 1\", \"train loss 2\", \"train acc 1\", \"train acc 2\",\n",
        "                                    \"val loss 1\", \"val loss 2\", \"val acc 1\", \"val acc 2\",\n",
        "                                    \"test loss 1\", \"test loss 2\", \"test acc 1\", \"test acc 2\"])\n",
        "    cnt = 111\n",
        "    for input_size in [320]:\n",
        "        for batch_size in [64]:\n",
        "            for dense_units in [512]:\n",
        "                for epochs in [5]:\n",
        "                    for dropout_proba in [0.2]:\n",
        "                        print(f\"yolo__{input_size}_{batch_size}_{epochs}_{dense_units}_{dropout_proba}\")\n",
        "                        result = dict()\n",
        "                        result[\"input size\"] = input_size\n",
        "                        result[\"batch size\"] = batch_size\n",
        "                        result[\"epochs\"] = epochs\n",
        "                        result[\"dense units\"] = dense_units\n",
        "                        result[\"dropout proba\"] = dropout_proba\n",
        "\n",
        "                        classifier = create_YOLO_classifier(input_size, dense_units, dropout_proba=dropout_proba)\n",
        "                        img_train, img_val, img_test = load_yolo_data(1)\n",
        "\n",
        "                        losses1, accuracies1, val_losses1, val_accuracies1, test_loss, test_acc = train_yolo_cls(epochs, batch_size, classifier, img_train, label_train1, img_val, label_val1, img_test, label_test1)\n",
        "\n",
        "                        result[\"train loss 1\"] = losses1[-1]\n",
        "                        result[\"train acc 1\"] = accuracies1[-1]\n",
        "                        result[\"val loss 1\"] = val_losses1[-1]\n",
        "                        result[\"val acc 1\"] = val_accuracies1[-1]\n",
        "                        result[\"test loss 1\"] = test_loss\n",
        "                        result[\"test acc 1\"] = test_acc\n",
        "\n",
        "                        loss_acc_yolo_graphs(accuracies1, val_accuracies1, losses1, val_losses1, f\"yolo_split1_{input_size}_{batch_size}_{epochs}_{dense_units}_{dropout_proba}\")\n",
        "\n",
        "                        classifier = create_YOLO_classifier(input_size, dense_units, dropout_proba=dropout_proba)\n",
        "                        img_train, img_val, img_test = load_yolo_data(2)\n",
        "\n",
        "                        losses2, accuracies2, val_losses2, val_accuracies2, test_loss, test_acc = train_yolo_cls(epochs, batch_size, classifier, img_train, label_train2, img_val, label_val2, img_test, label_test2)\n",
        "\n",
        "                        result[\"train loss 2\"] = losses2[-1]\n",
        "                        result[\"train acc 2\"] = accuracies2[-1]\n",
        "                        result[\"val loss 2\"] = val_losses2[-1]\n",
        "                        result[\"val acc 2\"] = val_accuracies2[-1]\n",
        "                        result[\"test loss 2\"] = test_loss\n",
        "                        result[\"test acc 2\"] = test_acc\n",
        "\n",
        "                        loss_acc_yolo_graphs(accuracies2, val_accuracies2, losses2, val_losses2, f\"yolo_split2_{input_size}_{batch_size}_{epochs}_{dense_units}_{dropout_proba}\")\n",
        "\n",
        "                        avg_train_accs = (np.array(accuracies1) + np.array(accuracies2)) / 2\n",
        "                        avg_train_losses = (np.array(losses1) + np.array(losses2)) / 2\n",
        "                        avg_val_accs = (np.array(val_accuracies1) + np.array(val_accuracies2)) / 2\n",
        "                        avg_val_losses = (np.array(val_losses1) + np.array(val_losses2)) / 2\n",
        "\n",
        "                        loss_acc_yolo_graphs(avg_train_accs, avg_val_accs, avg_train_losses, avg_val_losses, f\"yolo_avg_{input_size}_{batch_size}_{epochs}_{dense_units}_{dropout_proba}\")\n",
        "\n",
        "                        result_df = pd.DataFrame.from_dict(columns=results.columns, data={'0': result}, orient='index')\n",
        "                        results = pd.concat([results, result_df], axis=0, ignore_index=True)\n",
        "                        results.to_csv(f'/content/drive/MyDrive/Machine Learning/YOLO_results{cnt}.csv')\n",
        "                        cnt += 1\n",
        "\n",
        "    results.to_csv('/content/drive/MyDrive/Machine Learning/YOLO_results.csv')"
      ],
      "metadata": {
        "id": "adTiiTnet_ak"
      },
      "execution_count": 14,
      "outputs": []
    },
    {
      "cell_type": "code",
      "source": [
        "import matplotlib.pyplot as plt\n",
        "\n",
        "def loss_acc_yolo_graphs(train_accs, val_accs, train_losses, val_losses, hyper_parameters):\n",
        "    \"\"\"\n",
        "    Plots the loss and accuracy using scatter plots based on the model's log.\n",
        "\n",
        "    Args:\n",
        "        log (keras.callbacks.History): The model's log.\n",
        "        hyper_parameters (str): Experiment's identification through hyper-parameters\n",
        "        log2 (keras.callbacks.History, optional): Additional model's log for comparison.\n",
        "\n",
        "    Returns:\n",
        "        pd.DataFrame: A dataframe containing the loss and accuracy values\n",
        "            of the last epoch for the training and validation sets.\n",
        "    \"\"\"\n",
        "\n",
        "    # Plot loss\n",
        "    plt.figure()\n",
        "    plt.plot(range(1, len(train_losses) + 1), train_losses, label='train')\n",
        "    plt.plot(range(1, len(val_losses) + 1), val_losses, label='validation')\n",
        "    plt.title('Model Loss')\n",
        "    plt.xlabel('Epoch')\n",
        "    plt.ylabel('Loss')\n",
        "    plt.legend()\n",
        "    plt.savefig(f'{PATH_GRAPHS}/yolo_loss_{hyper_parameters}.png')\n",
        "    plt.close()\n",
        "\n",
        "    # Plot accuracy\n",
        "    plt.figure()\n",
        "    plt.plot(range(1, len(train_accs) + 1), train_accs, label='train')\n",
        "    plt.plot(range(1, len(val_accs) + 1), val_accs, label='validation')\n",
        "    plt.title('Model Accuracy')\n",
        "    plt.xlabel('Epoch')\n",
        "    plt.ylabel('Accuracy')\n",
        "    plt.legend()\n",
        "    plt.savefig(f'{PATH_GRAPHS}/yolo_accuracy_{hyper_parameters}.png')\n",
        "    plt.close()"
      ],
      "metadata": {
        "id": "F6sHpYoYa0KM"
      },
      "execution_count": 15,
      "outputs": []
    },
    {
      "cell_type": "code",
      "source": [
        "run_YOLO()"
      ],
      "metadata": {
        "id": "SrYkuHjJDrQO"
      },
      "execution_count": null,
      "outputs": []
    },
    {
      "cell_type": "code",
      "source": [
        "%matplotlib inline\n",
        "import matplotlib.pyplot as plt\n",
        "import matplotlib.image as mpimg\n",
        "\n",
        "param_str = f\"_{320}_{64}_{25}_{512}_{0.2}.png\"\n",
        "pref1 = \"yolo_accuracy_yolo_avg\"\n",
        "pref2 = \"yolo_loss_yolo_avg\"\n",
        "pref3 = \"yolo_accuracy_yolo_split1\"\n",
        "pref4 = \"yolo_loss_yolo_split1\"\n",
        "pref5 = \"yolo_accuracy_yolo_split2\"\n",
        "pref6 = \"yolo_loss_yolo_split2\"\n",
        "\n",
        "img = mpimg.imread(PATH_GRAPHS + \"/\" + pref6 + param_str)\n",
        "imgplot = plt.imshow(img)\n",
        "plt.show()"
      ],
      "metadata": {
        "colab": {
          "base_uri": "https://localhost:8080/",
          "height": 436
        },
        "id": "rP6bk1H2PEzZ",
        "outputId": "0e7f4d06-89f0-4a7a-aadc-ebca3a12d838"
      },
      "execution_count": 24,
      "outputs": [
        {
          "output_type": "display_data",
          "data": {
            "text/plain": [
              "<Figure size 640x480 with 1 Axes>"
            ],
            "image/png": "[encoded data removed]"
          },
          "metadata": {}
        }
      ]
    }
  ]
}